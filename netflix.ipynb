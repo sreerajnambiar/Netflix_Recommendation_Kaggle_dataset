{
 "cells": [
  {
   "cell_type": "code",
   "execution_count": 1,
   "metadata": {
    "id": "lIdZAzYKTmIm"
   },
   "outputs": [],
   "source": [
    "import pandas as pd "
   ]
  },
  {
   "cell_type": "code",
   "execution_count": 2,
   "metadata": {
    "id": "e66elOU_Trk4"
   },
   "outputs": [],
   "source": [
    "nt = pd.read_csv('netflix_titles.csv')"
   ]
  },
  {
   "cell_type": "code",
   "execution_count": 3,
   "metadata": {
    "id": "MFTNPka1Uh29"
   },
   "outputs": [],
   "source": [
    "import pandas as pd\n",
    "import string\n",
    "from wordcloud import WordCloud\n",
    "from nltk.corpus import stopwords\n",
    "from sklearn.feature_extraction.text import CountVectorizer\n",
    "from sklearn.preprocessing import LabelEncoder"
   ]
  },
  {
   "cell_type": "code",
   "execution_count": 4,
   "metadata": {
    "id": "Y5gSzopkU1jw"
   },
   "outputs": [],
   "source": [
    "nt.drop(['show_id'] , axis=1 , inplace=True) "
   ]
  },
  {
   "cell_type": "code",
   "execution_count": 5,
   "metadata": {
    "id": "AwQYlF3uVCrV"
   },
   "outputs": [],
   "source": [
    "nt.director.fillna('Unknown' , inplace=True)\n",
    "nt.cast.fillna('Unknown' , inplace=True)\n",
    "nt.country.fillna('Unknown' , inplace=True)\n",
    "nt.rating.fillna('NR' , inplace=True)\n",
    "nt.date_added.fillna('January 31, 2021' , inplace=True)"
   ]
  },
  {
   "cell_type": "code",
   "execution_count": 6,
   "metadata": {
    "id": "hTDNejqmVJpp"
   },
   "outputs": [],
   "source": [
    "date_added_day=[]\n",
    "date_added_month=[]\n",
    "date_added_year =[]\n",
    "def data_process(line):\n",
    "    line = [char for char in line if char not in string.punctuation]\n",
    "    line = \"\".join(line)\n",
    "    line=line.split()\n",
    "    date_added_day.append(line[1])\n",
    "    date_added_month.append(line[0])\n",
    "    date_added_year.append(line[2])\n",
    "nt.date_added.apply(data_process)\n",
    "nt['date_added_day'] = date_added_day\n",
    "nt['date_added_month'] = date_added_month\n",
    "nt['date_added_year'] = date_added_year\n",
    "nt.drop(['date_added'] , axis=1 , inplace=True)\n"
   ]
  },
  {
   "cell_type": "code",
   "execution_count": 7,
   "metadata": {
    "id": "M0iyu7YVVr4_"
   },
   "outputs": [],
   "source": [
    "  nt.date_added_month.replace({\n",
    "    'January':1,\n",
    "    'February':2,\n",
    "    'March':3,\n",
    "    'April':4,\n",
    "    'May':5,\n",
    "    'June':6,\n",
    "    'July':7,\n",
    "    'August':8,\n",
    "    'September':9,\n",
    "    'October':10,\n",
    "    'November':11,\n",
    "    'December':12,\n",
    "} , inplace=True)\n",
    "le = LabelEncoder()\n",
    "nt.rating = le.fit_transform(nt.rating)\n",
    "\n",
    "\n",
    "\n"
   ]
  },
  {
   "cell_type": "code",
   "execution_count": 8,
   "metadata": {},
   "outputs": [
    {
     "name": "stderr",
     "output_type": "stream",
     "text": [
      "<ipython-input-8-91c1ee823287>:1: UserWarning: Pandas doesn't allow columns to be created via a new attribute name - see https://pandas.pydata.org/pandas-docs/stable/indexing.html#attribute-access\n",
      "  nt.cast_crew = nt.cast + \",\"+nt.director\n"
     ]
    }
   ],
   "source": [
    "nt.cast_crew = nt.cast + \",\"+nt.director\n",
    "    "
   ]
  },
  {
   "cell_type": "code",
   "execution_count": 9,
   "metadata": {},
   "outputs": [
    {
     "data": {
      "text/plain": [
       "'João Miguel, Bianca Comparato, Michel Gomes, Rodolfo Valente, Vaneza Oliveira, Rafael Lozano, Viviane Porto, Mel Fronckowiak, Sergio Mamberti, Zezé Motta, Celso Frateschi,Unknown'"
      ]
     },
     "execution_count": 9,
     "metadata": {},
     "output_type": "execute_result"
    }
   ],
   "source": [
    "nt.cast_crew[0]"
   ]
  },
  {
   "cell_type": "code",
   "execution_count": 10,
   "metadata": {
    "id": "2ACJxG4oWTi3"
   },
   "outputs": [],
   "source": [
    "\n",
    "def text_process_cast_crew_col(mess):\n",
    "    mess = mess.replace(\" \", \"\")\n",
    "    mess = mess.replace(\"&\" , \",\")\n",
    "    mess = mess.replace(\"-\",\"_\")\n",
    "    mess = mess.replace(\".\" , \"_\")\n",
    "    #mess = mess.split(\",\")\n",
    "    return mess\n",
    "def text_process_country_col(mess):\n",
    "    mess = mess.replace(\" \", \"\")\n",
    "    mess = mess.replace(\"&\" , \",\")\n",
    "    #mess = mess.split(\",\")\n",
    "    return mess"
   ]
  },
  {
   "cell_type": "code",
   "execution_count": 11,
   "metadata": {
    "id": "7_VbBca7Wvxs"
   },
   "outputs": [],
   "source": [
    "nt.cast_crew = nt.cast_crew.apply(text_process_cast_crew_col)\n",
    "nt.country = nt.country.apply(text_process_country_col)"
   ]
  },
  {
   "cell_type": "code",
   "execution_count": 12,
   "metadata": {
    "colab": {
     "base_uri": "https://localhost:8080/",
     "height": 513
    },
    "id": "SXQULXMlWx8t",
    "outputId": "9b895ca7-badc-48ef-d9b3-18cf3f0a918f"
   },
   "outputs": [
    {
     "data": {
      "text/html": [
       "<div>\n",
       "<style scoped>\n",
       "    .dataframe tbody tr th:only-of-type {\n",
       "        vertical-align: middle;\n",
       "    }\n",
       "\n",
       "    .dataframe tbody tr th {\n",
       "        vertical-align: top;\n",
       "    }\n",
       "\n",
       "    .dataframe thead th {\n",
       "        text-align: right;\n",
       "    }\n",
       "</style>\n",
       "<table border=\"1\" class=\"dataframe\">\n",
       "  <thead>\n",
       "    <tr style=\"text-align: right;\">\n",
       "      <th></th>\n",
       "      <th>type</th>\n",
       "      <th>title</th>\n",
       "      <th>director</th>\n",
       "      <th>cast</th>\n",
       "      <th>country</th>\n",
       "      <th>release_year</th>\n",
       "      <th>rating</th>\n",
       "      <th>duration</th>\n",
       "      <th>listed_in</th>\n",
       "      <th>description</th>\n",
       "      <th>date_added_day</th>\n",
       "      <th>date_added_month</th>\n",
       "      <th>date_added_year</th>\n",
       "    </tr>\n",
       "  </thead>\n",
       "  <tbody>\n",
       "    <tr>\n",
       "      <th>0</th>\n",
       "      <td>TV Show</td>\n",
       "      <td>3%</td>\n",
       "      <td>Unknown</td>\n",
       "      <td>João Miguel, Bianca Comparato, Michel Gomes, R...</td>\n",
       "      <td>Brazil</td>\n",
       "      <td>2020</td>\n",
       "      <td>8</td>\n",
       "      <td>4 Seasons</td>\n",
       "      <td>International TV Shows, TV Dramas, TV Sci-Fi &amp;...</td>\n",
       "      <td>In a future where the elite inhabit an island ...</td>\n",
       "      <td>14</td>\n",
       "      <td>8</td>\n",
       "      <td>2020</td>\n",
       "    </tr>\n",
       "    <tr>\n",
       "      <th>1</th>\n",
       "      <td>Movie</td>\n",
       "      <td>7:19</td>\n",
       "      <td>Jorge Michel Grau</td>\n",
       "      <td>Demián Bichir, Héctor Bonilla, Oscar Serrano, ...</td>\n",
       "      <td>Mexico</td>\n",
       "      <td>2016</td>\n",
       "      <td>8</td>\n",
       "      <td>93 min</td>\n",
       "      <td>Dramas, International Movies</td>\n",
       "      <td>After a devastating earthquake hits Mexico Cit...</td>\n",
       "      <td>23</td>\n",
       "      <td>12</td>\n",
       "      <td>2016</td>\n",
       "    </tr>\n",
       "    <tr>\n",
       "      <th>2</th>\n",
       "      <td>Movie</td>\n",
       "      <td>23:59</td>\n",
       "      <td>Gilbert Chan</td>\n",
       "      <td>Tedd Chan, Stella Chung, Henley Hii, Lawrence ...</td>\n",
       "      <td>Singapore</td>\n",
       "      <td>2011</td>\n",
       "      <td>5</td>\n",
       "      <td>78 min</td>\n",
       "      <td>Horror Movies, International Movies</td>\n",
       "      <td>When an army recruit is found dead, his fellow...</td>\n",
       "      <td>20</td>\n",
       "      <td>12</td>\n",
       "      <td>2018</td>\n",
       "    </tr>\n",
       "    <tr>\n",
       "      <th>3</th>\n",
       "      <td>Movie</td>\n",
       "      <td>9</td>\n",
       "      <td>Shane Acker</td>\n",
       "      <td>Elijah Wood, John C. Reilly, Jennifer Connelly...</td>\n",
       "      <td>UnitedStates</td>\n",
       "      <td>2009</td>\n",
       "      <td>4</td>\n",
       "      <td>80 min</td>\n",
       "      <td>Action &amp; Adventure, Independent Movies, Sci-Fi...</td>\n",
       "      <td>In a postapocalyptic world, rag-doll robots hi...</td>\n",
       "      <td>16</td>\n",
       "      <td>11</td>\n",
       "      <td>2017</td>\n",
       "    </tr>\n",
       "    <tr>\n",
       "      <th>4</th>\n",
       "      <td>Movie</td>\n",
       "      <td>21</td>\n",
       "      <td>Robert Luketic</td>\n",
       "      <td>Jim Sturgess, Kevin Spacey, Kate Bosworth, Aar...</td>\n",
       "      <td>UnitedStates</td>\n",
       "      <td>2008</td>\n",
       "      <td>4</td>\n",
       "      <td>123 min</td>\n",
       "      <td>Dramas</td>\n",
       "      <td>A brilliant group of students become card-coun...</td>\n",
       "      <td>1</td>\n",
       "      <td>1</td>\n",
       "      <td>2020</td>\n",
       "    </tr>\n",
       "  </tbody>\n",
       "</table>\n",
       "</div>"
      ],
      "text/plain": [
       "      type  title           director  \\\n",
       "0  TV Show     3%            Unknown   \n",
       "1    Movie   7:19  Jorge Michel Grau   \n",
       "2    Movie  23:59       Gilbert Chan   \n",
       "3    Movie      9        Shane Acker   \n",
       "4    Movie     21     Robert Luketic   \n",
       "\n",
       "                                                cast       country  \\\n",
       "0  João Miguel, Bianca Comparato, Michel Gomes, R...        Brazil   \n",
       "1  Demián Bichir, Héctor Bonilla, Oscar Serrano, ...        Mexico   \n",
       "2  Tedd Chan, Stella Chung, Henley Hii, Lawrence ...     Singapore   \n",
       "3  Elijah Wood, John C. Reilly, Jennifer Connelly...  UnitedStates   \n",
       "4  Jim Sturgess, Kevin Spacey, Kate Bosworth, Aar...  UnitedStates   \n",
       "\n",
       "   release_year  rating   duration  \\\n",
       "0          2020       8  4 Seasons   \n",
       "1          2016       8     93 min   \n",
       "2          2011       5     78 min   \n",
       "3          2009       4     80 min   \n",
       "4          2008       4    123 min   \n",
       "\n",
       "                                           listed_in  \\\n",
       "0  International TV Shows, TV Dramas, TV Sci-Fi &...   \n",
       "1                       Dramas, International Movies   \n",
       "2                Horror Movies, International Movies   \n",
       "3  Action & Adventure, Independent Movies, Sci-Fi...   \n",
       "4                                             Dramas   \n",
       "\n",
       "                                         description date_added_day  \\\n",
       "0  In a future where the elite inhabit an island ...             14   \n",
       "1  After a devastating earthquake hits Mexico Cit...             23   \n",
       "2  When an army recruit is found dead, his fellow...             20   \n",
       "3  In a postapocalyptic world, rag-doll robots hi...             16   \n",
       "4  A brilliant group of students become card-coun...              1   \n",
       "\n",
       "   date_added_month date_added_year  \n",
       "0                 8            2020  \n",
       "1                12            2016  \n",
       "2                12            2018  \n",
       "3                11            2017  \n",
       "4                 1            2020  "
      ]
     },
     "execution_count": 12,
     "metadata": {},
     "output_type": "execute_result"
    }
   ],
   "source": [
    "nt.head()"
   ]
  },
  {
   "cell_type": "code",
   "execution_count": 13,
   "metadata": {
    "colab": {
     "base_uri": "https://localhost:8080/"
    },
    "id": "q1d4p7ImXhZP",
    "outputId": "35b5b69e-a095-402b-84ad-1afe708ce783"
   },
   "outputs": [
    {
     "name": "stderr",
     "output_type": "stream",
     "text": [
      "[nltk_data] Downloading package stopwords to\n",
      "[nltk_data]     C:\\Users\\Sreeraj\\AppData\\Roaming\\nltk_data...\n",
      "[nltk_data]   Package stopwords is already up-to-date!\n"
     ]
    },
    {
     "data": {
      "text/plain": [
       "True"
      ]
     },
     "execution_count": 13,
     "metadata": {},
     "output_type": "execute_result"
    }
   ],
   "source": [
    "import nltk\n",
    "nltk.download('stopwords')"
   ]
  },
  {
   "cell_type": "markdown",
   "metadata": {
    "id": "ipod-sHNXjZv"
   },
   "source": [
    "## Binarising Listed In"
   ]
  },
  {
   "cell_type": "code",
   "execution_count": 14,
   "metadata": {
    "id": "dZLPl6DBW1Jl"
   },
   "outputs": [],
   "source": [
    "def text_processor_listed_in(mess):\n",
    "    non_punc = [char for char in mess if char not in  string.punctuation]\n",
    "    non_punc = \"\".join(non_punc)\n",
    "    return[word for word in non_punc.split() if word not in stopwords.words(\"english\")]\n",
    "bow_transformer_listed_in = CountVectorizer(analyzer=text_processor_listed_in).fit(nt['listed_in'])\n",
    "binary_listed_in = bow_transformer_listed_in.transform(nt.listed_in)"
   ]
  },
  {
   "cell_type": "markdown",
   "metadata": {
    "id": "Xv5-4FJiXyYt"
   },
   "source": [
    "## Binarising Description"
   ]
  },
  {
   "cell_type": "code",
   "execution_count": 87,
   "metadata": {
    "id": "-UB1QLivXYC3"
   },
   "outputs": [],
   "source": [
    "def text_process_description(mess):\n",
    "    non_punc = [char for char in mess if char not in  string.punctuation]\n",
    "    non_punc = \"\".join(non_punc)\n",
    "    return[word for word in non_punc.split() if word not in stopwords.words(\"english\")]\n",
    "bow_transformer_description = CountVectorizer(analyzer=text_process_description).fit(nt['description'])\n",
    "binary_discription = bow_transformer_description.transform(nt.description)"
   ]
  },
  {
   "cell_type": "markdown",
   "metadata": {
    "id": "retOy0l2ZlQ_"
   },
   "source": [
    "## Binarising Cast_Crew "
   ]
  },
  {
   "cell_type": "code",
   "execution_count": 88,
   "metadata": {
    "id": "6N7xVtdcYzQ-"
   },
   "outputs": [],
   "source": [
    "def text_process_cast_crew(mess):\n",
    "    mess = mess.replace(\" \", \"\")\n",
    "    mess = mess.replace(\"&\" , \"\")\n",
    "    mess = mess.replace(\"-\",\"_\")\n",
    "    mess = mess.replace(\".\" , \"_\")\n",
    "    mess = mess.split(\",\")\n",
    "    return mess\n",
    "bow_tranformer_cast = CountVectorizer(analyzer=text_process_cast).fit(nt['cast_crew'])\n",
    "binary_cast = bow_tranformer_cast.transform(nt.cast_crew)"
   ]
  },
  {
   "cell_type": "markdown",
   "metadata": {
    "id": "V3mO5pQUZxbZ"
   },
   "source": [
    "## Binarising Country "
   ]
  },
  {
   "cell_type": "code",
   "execution_count": 16,
   "metadata": {
    "id": "HLlY_ip4Z688"
   },
   "outputs": [],
   "source": [
    "def text_process_country(mess):\n",
    "    return mess.split(\",\")\n",
    "bow_transformer_country =CountVectorizer(analyzer=text_process_country).fit(nt['country'])\n",
    "binary_country = bow_transformer_country.transform(nt.country)\n"
   ]
  },
  {
   "cell_type": "markdown",
   "metadata": {
    "id": "nP8TwgtIaHqw"
   },
   "source": [
    "# Making Sparse Matrix "
   ]
  },
  {
   "cell_type": "code",
   "execution_count": 89,
   "metadata": {
    "id": "Wm3eB762aP_M"
   },
   "outputs": [],
   "source": [
    "df1=pd.DataFrame.sparse.from_spmatrix(binary_cast)\n",
    "df1.columns=bow_tranformer_cast.get_feature_names()\n"
   ]
  },
  {
   "cell_type": "code",
   "execution_count": 90,
   "metadata": {
    "id": "LwI2uaIKawsd"
   },
   "outputs": [],
   "source": [
    "df2= pd.DataFrame.sparse.from_spmatrix(binary_listed_in)\n",
    "df2.columns= bow_transformer_listed_in.get_feature_names()\n"
   ]
  },
  {
   "cell_type": "code",
   "execution_count": 91,
   "metadata": {
    "id": "FO7hDnSmayre"
   },
   "outputs": [],
   "source": [
    "df3= pd.DataFrame.sparse.from_spmatrix(binary_discription)\n",
    "df3.columns= bow_transformer_description.get_feature_names()\n"
   ]
  },
  {
   "cell_type": "code",
   "execution_count": 92,
   "metadata": {
    "id": "00LbN1UCa1Fy"
   },
   "outputs": [],
   "source": [
    "df4= pd.DataFrame.sparse.from_spmatrix(binary_country)\n",
    "df4.columns= bow_transformer_country.get_feature_names()\n"
   ]
  },
  {
   "cell_type": "code",
   "execution_count": 93,
   "metadata": {
    "id": "pCVYptaua3CJ"
   },
   "outputs": [],
   "source": [
    "mat = pd.concat([df1 , df2  , df4, nt.date_added_year , nt.release_year , nt.title] , axis=1)"
   ]
  },
  {
   "cell_type": "code",
   "execution_count": 94,
   "metadata": {
    "id": "M98kM27ua5RX"
   },
   "outputs": [],
   "source": [
    "from sklearn.cluster import KMeans"
   ]
  },
  {
   "cell_type": "code",
   "execution_count": null,
   "metadata": {
    "id": "K5vZ-iJLa9zd"
   },
   "outputs": [],
   "source": []
  },
  {
   "cell_type": "code",
   "execution_count": 98,
   "metadata": {
    "colab": {
     "base_uri": "https://localhost:8080/"
    },
    "id": "fEQY4iV5ikK3",
    "outputId": "3265057c-1c44-464a-952e-a063e73fc4b9"
   },
   "outputs": [
    {
     "name": "stdout",
     "output_type": "stream",
     "text": [
      "enter search: Aamir Khan\n",
      "100                        3 Idiots\n",
      "507                 Andaz Apna Apna\n",
      "1595                         Dangal\n",
      "1739    Dhobi Ghat (Mumbai Diaries)\n",
      "1756                            Dil\n",
      "1757                 Dil Chahta Hai\n",
      "1758                Dil Dhadakne Do\n",
      "3521                         Lagaan\n",
      "3848          Madness in the Desert\n",
      "3912                           Mann\n",
      "4872                             PK\n",
      "5077                Raja Hindustani\n",
      "5097                Rang De Basanti\n",
      "5464               Secret Superstar\n",
      "5968                        Talaash\n",
      "Name: title, dtype: object\n"
     ]
    }
   ],
   "source": [
    "data = input(\"enter search: \")\n",
    "data= data.replace(\" \" , \"\")\n",
    "if data in mat.columns:\n",
    "    print(mat.title[mat[data]==1])\n",
    "else:\n",
    "    print(\"not found \")"
   ]
  },
  {
   "cell_type": "code",
   "execution_count": 25,
   "metadata": {
    "id": "5ktgtIvq_x3M"
   },
   "outputs": [],
   "source": [
    "mat1 = pd.concat([df , df1 , df2  , df4, nt.date_added_year , nt.release_year  , nt.rating ] , axis=1)"
   ]
  },
  {
   "cell_type": "code",
   "execution_count": 26,
   "metadata": {
    "colab": {
     "base_uri": "https://localhost:8080/"
    },
    "id": "k5gAgVbQi7FW",
    "outputId": "4f35bb16-1df2-4f0e-aa88-cba99e354f81"
   },
   "outputs": [
    {
     "name": "stderr",
     "output_type": "stream",
     "text": [
      "C:\\Users\\Sreeraj\\anaconda3\\lib\\site-packages\\sklearn\\utils\\validation.py:508: UserWarning: pandas.DataFrame with sparse columns found.It will be converted to a dense numpy array.\n",
      "  warnings.warn(\n"
     ]
    },
    {
     "data": {
      "text/plain": [
       "KMeans(n_clusters=10)"
      ]
     },
     "execution_count": 26,
     "metadata": {},
     "output_type": "execute_result"
    }
   ],
   "source": [
    "sns_kmean = KMeans(n_clusters=10)\n",
    "sns_kmean.fit(mat1)"
   ]
  },
  {
   "cell_type": "code",
   "execution_count": 27,
   "metadata": {
    "id": "pYlbznyYj7AA"
   },
   "outputs": [],
   "source": [
    "nt['labels'] = sns_kmean.labels_"
   ]
  },
  {
   "cell_type": "code",
   "execution_count": 28,
   "metadata": {
    "id": "nHQr29Ijj_Rk"
   },
   "outputs": [],
   "source": [
    "import numpy as np"
   ]
  },
  {
   "cell_type": "code",
   "execution_count": 36,
   "metadata": {
    "colab": {
     "base_uri": "https://localhost:8080/"
    },
    "id": "k4aXIRnZkwGV",
    "outputId": "081e2559-0f14-4a5a-9509-887fb9afbaef"
   },
   "outputs": [
    {
     "name": "stdout",
     "output_type": "stream",
     "text": [
      "enter search: Zero\n",
      "8                            706\n",
      "14                          3022\n",
      "17                        22-Jul\n",
      "18                        15-Aug\n",
      "20          ​​Kuch Bheege Alfaaz\n",
      "                  ...           \n",
      "7735              Young & Hungry\n",
      "7747                      اشتباك\n",
      "7764                        Zero\n",
      "7768    Zindagi Kitni Haseen Hay\n",
      "7783                      Zubaan\n",
      "Name: title, Length: 1367, dtype: object\n"
     ]
    }
   ],
   "source": [
    "data = input(\"enter search: \")\n",
    "if data in list(nt.title):\n",
    "  label = nt.labels[nt.title == data]\n",
    "  label = np.array(label)\n",
    "  print(nt.title[nt.labels == label[0]])\n",
    "else:\n",
    "  print(\"not found\")"
   ]
  },
  {
   "cell_type": "code",
   "execution_count": null,
   "metadata": {
    "id": "mx-nO-8QqzIt"
   },
   "outputs": [],
   "source": []
  },
  {
   "cell_type": "code",
   "execution_count": null,
   "metadata": {
    "id": "iM_adR5Uq6qW"
   },
   "outputs": [],
   "source": []
  },
  {
   "cell_type": "code",
   "execution_count": null,
   "metadata": {},
   "outputs": [],
   "source": []
  }
 ],
 "metadata": {
  "accelerator": "GPU",
  "colab": {
   "collapsed_sections": [],
   "name": "netfix.ipynb",
   "provenance": []
  },
  "kernelspec": {
   "display_name": "Python 3",
   "language": "python",
   "name": "python3"
  },
  "language_info": {
   "codemirror_mode": {
    "name": "ipython",
    "version": 3
   },
   "file_extension": ".py",
   "mimetype": "text/x-python",
   "name": "python",
   "nbconvert_exporter": "python",
   "pygments_lexer": "ipython3",
   "version": "3.8.5"
  },
  "latex_envs": {
   "LaTeX_envs_menu_present": true,
   "autoclose": false,
   "autocomplete": true,
   "bibliofile": "biblio.bib",
   "cite_by": "apalike",
   "current_citInitial": 1,
   "eqLabelWithNumbers": true,
   "eqNumInitial": 1,
   "hotkeys": {
    "equation": "Ctrl-E",
    "itemize": "Ctrl-I"
   },
   "labels_anchors": false,
   "latex_user_defs": false,
   "report_style_numbering": false,
   "user_envs_cfg": false
  },
  "varInspector": {
   "cols": {
    "lenName": 16,
    "lenType": 16,
    "lenVar": 40
   },
   "kernels_config": {
    "python": {
     "delete_cmd_postfix": "",
     "delete_cmd_prefix": "del ",
     "library": "var_list.py",
     "varRefreshCmd": "print(var_dic_list())"
    },
    "r": {
     "delete_cmd_postfix": ") ",
     "delete_cmd_prefix": "rm(",
     "library": "var_list.r",
     "varRefreshCmd": "cat(var_dic_list()) "
    }
   },
   "types_to_exclude": [
    "module",
    "function",
    "builtin_function_or_method",
    "instance",
    "_Feature"
   ],
   "window_display": false
  }
 },
 "nbformat": 4,
 "nbformat_minor": 1
}
